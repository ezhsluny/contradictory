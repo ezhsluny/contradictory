{
  "metadata": {
    "kernelspec": {
      "display_name": "Python 3",
      "name": "python3"
    },
    "language_info": {
      "name": "python",
      "version": "3.11.11",
      "mimetype": "text/x-python",
      "codemirror_mode": {
        "name": "ipython",
        "version": 3
      },
      "pygments_lexer": "ipython3",
      "nbconvert_exporter": "python",
      "file_extension": ".py"
    },
    "kaggle": {
      "accelerator": "gpu",
      "dataSources": [
        {
          "sourceId": 21733,
          "databundleVersionId": 1408234,
          "sourceType": "competition"
        }
      ],
      "isInternetEnabled": false,
      "language": "python",
      "sourceType": "notebook",
      "isGpuEnabled": true
    },
    "colab": {
      "provenance": [],
      "gpuType": "T4"
    },
    "accelerator": "GPU"
  },
  "nbformat_minor": 0,
  "nbformat": 4,
  "cells": [
    {
      "cell_type": "markdown",
      "source": [
        "# 1. Installs"
      ],
      "metadata": {
        "id": "ibQw3Zk4OT1a"
      }
    },
    {
      "cell_type": "code",
      "source": [
        "!pip install transformers datasets\n",
        "# !pip install seaborn"
      ],
      "metadata": {
        "_uuid": "8f2839f25d086af736a60e9eeb907d3b93b6e0e5",
        "_cell_guid": "b1076dfc-b9ad-4769-8c92-a6c4dae69d19",
        "trusted": true,
        "execution": {
          "iopub.status.busy": "2025-05-12T06:28:28.695161Z",
          "iopub.status.idle": "2025-05-12T06:28:28.695532Z",
          "shell.execute_reply.started": "2025-05-12T06:28:28.695341Z",
          "shell.execute_reply": "2025-05-12T06:28:28.695359Z"
        },
        "collapsed": true,
        "id": "nyopTlRdOT1b"
      },
      "outputs": [],
      "execution_count": null
    },
    {
      "cell_type": "markdown",
      "source": [
        "# 2. Imports"
      ],
      "metadata": {
        "id": "BQUGQGmUOT1c"
      }
    },
    {
      "cell_type": "code",
      "source": [
        "from google.colab import drive\n",
        "drive.mount('/content/drive')"
      ],
      "metadata": {
        "colab": {
          "base_uri": "https://localhost:8080/"
        },
        "id": "v6eL0IERQUFW",
        "outputId": "f6d25c65-1916-4a95-91e7-09f3bbfab97d"
      },
      "execution_count": 1,
      "outputs": [
        {
          "output_type": "stream",
          "name": "stdout",
          "text": [
            "Mounted at /content/drive\n"
          ]
        }
      ]
    },
    {
      "cell_type": "code",
      "source": [
        "import os\n",
        "\n",
        "import pandas as pd\n",
        "import numpy as np\n",
        "\n",
        "import shutil\n",
        "\n",
        "import re\n",
        "\n",
        "import matplotlib.pyplot as plt\n",
        "\n",
        "import seaborn as sns\n",
        "\n",
        "from datasets import load_dataset, Dataset\n",
        "\n",
        "from sklearn.model_selection import train_test_split\n",
        "from sklearn.metrics import classification_report, accuracy_score, f1_score, precision_score, recall_score\n",
        "\n",
        "import torch"
      ],
      "metadata": {
        "trusted": true,
        "execution": {
          "iopub.status.busy": "2025-05-12T06:28:42.937555Z",
          "iopub.execute_input": "2025-05-12T06:28:42.938526Z",
          "iopub.status.idle": "2025-05-12T06:28:42.944090Z",
          "shell.execute_reply.started": "2025-05-12T06:28:42.938499Z",
          "shell.execute_reply": "2025-05-12T06:28:42.943010Z"
        },
        "id": "hDDhh4SnOT1c"
      },
      "outputs": [],
      "execution_count": 8
    },
    {
      "cell_type": "markdown",
      "source": [
        "# 3. Definitions"
      ],
      "metadata": {
        "id": "DMgTi7GeOT1d"
      }
    },
    {
      "cell_type": "code",
      "source": [
        "MODEL_NAME = \"roberta-base\"  # Английская модель\n",
        "XLM_MODEL_NAME = \"xlm-roberta-base\"  # Многоязычная модель\n",
        "MAX_LENGTH = 256\n",
        "NUM_CLASSES = 3\n",
        "DEVICE = \"cuda\" if torch.cuda.is_available() else \"cpu\"\n",
        "SEED = 42\n",
        "\n",
        "DATA_DIR = \"/content/drive/MyDrive/contradictory-my-dear-watson\"\n",
        "RESULT_DICT = {\n",
        "        0 : \"entailment\",\n",
        "        1 : \"neutral\",\n",
        "        2 : \"contradiction\"}"
      ],
      "metadata": {
        "id": "In3cjaoJcnvD"
      },
      "execution_count": 24,
      "outputs": []
    },
    {
      "cell_type": "markdown",
      "source": [
        "## 3.1 Config Class"
      ],
      "metadata": {
        "id": "zXUwJ9REOT1d"
      }
    },
    {
      "cell_type": "code",
      "source": [
        "# Disable Weights & Biases tracking and tokenizer parallelism for this session.\n",
        "os.environ[\"WANDB_DISABLED\"] = \"true\"\n",
        "os.environ[\"TOKENIZERS_PARALLELISM\"] = \"false\""
      ],
      "metadata": {
        "trusted": true,
        "execution": {
          "iopub.status.busy": "2025-05-12T06:28:53.631745Z",
          "iopub.execute_input": "2025-05-12T06:28:53.632082Z",
          "iopub.status.idle": "2025-05-12T06:28:53.636403Z",
          "shell.execute_reply.started": "2025-05-12T06:28:53.632060Z",
          "shell.execute_reply": "2025-05-12T06:28:53.635450Z"
        },
        "id": "m52Ff5aEOT1e"
      },
      "outputs": [],
      "execution_count": 10
    },
    {
      "cell_type": "markdown",
      "source": [
        "# 4. Load the dataset"
      ],
      "metadata": {
        "id": "M5a1pGb7OT1f"
      }
    },
    {
      "cell_type": "code",
      "source": [
        "for dirname, _, filenames in os.walk(DATA_DIR):\n",
        "    for filename in filenames:\n",
        "        print(os.path.join(dirname, filename))"
      ],
      "metadata": {
        "trusted": true,
        "execution": {
          "iopub.status.busy": "2025-05-12T06:28:56.849278Z",
          "iopub.execute_input": "2025-05-12T06:28:56.850046Z",
          "iopub.status.idle": "2025-05-12T06:28:56.855169Z",
          "shell.execute_reply.started": "2025-05-12T06:28:56.850022Z",
          "shell.execute_reply": "2025-05-12T06:28:56.854257Z"
        },
        "id": "vnZeLiMNOT1f",
        "colab": {
          "base_uri": "https://localhost:8080/"
        },
        "outputId": "cd7cbaf0-0e46-4dc9-e53a-11fa2bbeebe4"
      },
      "outputs": [
        {
          "output_type": "stream",
          "name": "stdout",
          "text": [
            "/content/drive/MyDrive/contradictory-my-dear-watson/sample_submission.csv\n",
            "/content/drive/MyDrive/contradictory-my-dear-watson/results/checkpoint-6/config.json\n",
            "/content/drive/MyDrive/contradictory-my-dear-watson/results/checkpoint-3/optimizer.pt\n",
            "/content/drive/MyDrive/contradictory-my-dear-watson/results/checkpoint-3/rng_state.pth\n",
            "/content/drive/MyDrive/contradictory-my-dear-watson/results/checkpoint-3/scaler.pt\n",
            "/content/drive/MyDrive/contradictory-my-dear-watson/results/checkpoint-3/scheduler.pt\n",
            "/content/drive/MyDrive/contradictory-my-dear-watson/results/checkpoint-3/trainer_state.json\n",
            "/content/drive/MyDrive/contradictory-my-dear-watson/results/checkpoint-3/model.safetensors\n",
            "/content/drive/MyDrive/contradictory-my-dear-watson/results/checkpoint-3/training_args.bin\n",
            "/content/drive/MyDrive/contradictory-my-dear-watson/results/checkpoint-3/tokenizer_config.json\n",
            "/content/drive/MyDrive/contradictory-my-dear-watson/results/checkpoint-3/special_tokens_map.json\n",
            "/content/drive/MyDrive/contradictory-my-dear-watson/results/checkpoint-3/tokenizer.json\n",
            "/content/drive/MyDrive/contradictory-my-dear-watson/results/checkpoint-3/sentencepiece.bpe.model\n",
            "/content/drive/MyDrive/contradictory-my-dear-watson/results/checkpoint-3/config.json\n"
          ]
        }
      ],
      "execution_count": 11
    },
    {
      "cell_type": "code",
      "source": [
        "train_df = pd.read_csv(DATA_DIR + \"/train.csv\")\n",
        "train_df.head()"
      ],
      "metadata": {
        "trusted": true,
        "execution": {
          "iopub.status.busy": "2025-05-12T06:28:58.538523Z",
          "iopub.execute_input": "2025-05-12T06:28:58.539118Z",
          "iopub.status.idle": "2025-05-12T06:28:58.619312Z",
          "shell.execute_reply.started": "2025-05-12T06:28:58.539089Z",
          "shell.execute_reply": "2025-05-12T06:28:58.618412Z"
        },
        "colab": {
          "base_uri": "https://localhost:8080/",
          "height": 397
        },
        "id": "sWz6VgoAOT1f",
        "outputId": "7eb728de-1be6-4f7b-fb3c-8e509a323fb5"
      },
      "outputs": [
        {
          "output_type": "execute_result",
          "data": {
            "text/plain": [
              "           id                                            premise  \\\n",
              "0  5130fd2cb5  and these comments were considered in formulat...   \n",
              "1  5b72532a0b  These are issues that we wrestle with in pract...   \n",
              "2  3931fbe82a  Des petites choses comme celles-là font une di...   \n",
              "3  5622f0c60b  you know they can't really defend themselves l...   \n",
              "4  86aaa48b45  ในการเล่นบทบาทสมมุติก็เช่นกัน โอกาสที่จะได้แสด...   \n",
              "\n",
              "                                          hypothesis lang_abv language  label  \n",
              "0  The rules developed in the interim were put to...       en  English      0  \n",
              "1  Practice groups are not permitted to work on t...       en  English      2  \n",
              "2              J'essayais d'accomplir quelque chose.       fr   French      0  \n",
              "3  They can't defend themselves because of their ...       en  English      0  \n",
              "4    เด็กสามารถเห็นได้ว่าชาติพันธุ์แตกต่างกันอย่างไร       th     Thai      1  "
            ],
            "text/html": [
              "\n",
              "  <div id=\"df-3af217dc-d22c-4a8a-8c5f-6101a885994c\" class=\"colab-df-container\">\n",
              "    <div>\n",
              "<style scoped>\n",
              "    .dataframe tbody tr th:only-of-type {\n",
              "        vertical-align: middle;\n",
              "    }\n",
              "\n",
              "    .dataframe tbody tr th {\n",
              "        vertical-align: top;\n",
              "    }\n",
              "\n",
              "    .dataframe thead th {\n",
              "        text-align: right;\n",
              "    }\n",
              "</style>\n",
              "<table border=\"1\" class=\"dataframe\">\n",
              "  <thead>\n",
              "    <tr style=\"text-align: right;\">\n",
              "      <th></th>\n",
              "      <th>id</th>\n",
              "      <th>premise</th>\n",
              "      <th>hypothesis</th>\n",
              "      <th>lang_abv</th>\n",
              "      <th>language</th>\n",
              "      <th>label</th>\n",
              "    </tr>\n",
              "  </thead>\n",
              "  <tbody>\n",
              "    <tr>\n",
              "      <th>0</th>\n",
              "      <td>5130fd2cb5</td>\n",
              "      <td>and these comments were considered in formulat...</td>\n",
              "      <td>The rules developed in the interim were put to...</td>\n",
              "      <td>en</td>\n",
              "      <td>English</td>\n",
              "      <td>0</td>\n",
              "    </tr>\n",
              "    <tr>\n",
              "      <th>1</th>\n",
              "      <td>5b72532a0b</td>\n",
              "      <td>These are issues that we wrestle with in pract...</td>\n",
              "      <td>Practice groups are not permitted to work on t...</td>\n",
              "      <td>en</td>\n",
              "      <td>English</td>\n",
              "      <td>2</td>\n",
              "    </tr>\n",
              "    <tr>\n",
              "      <th>2</th>\n",
              "      <td>3931fbe82a</td>\n",
              "      <td>Des petites choses comme celles-là font une di...</td>\n",
              "      <td>J'essayais d'accomplir quelque chose.</td>\n",
              "      <td>fr</td>\n",
              "      <td>French</td>\n",
              "      <td>0</td>\n",
              "    </tr>\n",
              "    <tr>\n",
              "      <th>3</th>\n",
              "      <td>5622f0c60b</td>\n",
              "      <td>you know they can't really defend themselves l...</td>\n",
              "      <td>They can't defend themselves because of their ...</td>\n",
              "      <td>en</td>\n",
              "      <td>English</td>\n",
              "      <td>0</td>\n",
              "    </tr>\n",
              "    <tr>\n",
              "      <th>4</th>\n",
              "      <td>86aaa48b45</td>\n",
              "      <td>ในการเล่นบทบาทสมมุติก็เช่นกัน โอกาสที่จะได้แสด...</td>\n",
              "      <td>เด็กสามารถเห็นได้ว่าชาติพันธุ์แตกต่างกันอย่างไร</td>\n",
              "      <td>th</td>\n",
              "      <td>Thai</td>\n",
              "      <td>1</td>\n",
              "    </tr>\n",
              "  </tbody>\n",
              "</table>\n",
              "</div>\n",
              "    <div class=\"colab-df-buttons\">\n",
              "\n",
              "  <div class=\"colab-df-container\">\n",
              "    <button class=\"colab-df-convert\" onclick=\"convertToInteractive('df-3af217dc-d22c-4a8a-8c5f-6101a885994c')\"\n",
              "            title=\"Convert this dataframe to an interactive table.\"\n",
              "            style=\"display:none;\">\n",
              "\n",
              "  <svg xmlns=\"http://www.w3.org/2000/svg\" height=\"24px\" viewBox=\"0 -960 960 960\">\n",
              "    <path d=\"M120-120v-720h720v720H120Zm60-500h600v-160H180v160Zm220 220h160v-160H400v160Zm0 220h160v-160H400v160ZM180-400h160v-160H180v160Zm440 0h160v-160H620v160ZM180-180h160v-160H180v160Zm440 0h160v-160H620v160Z\"/>\n",
              "  </svg>\n",
              "    </button>\n",
              "\n",
              "  <style>\n",
              "    .colab-df-container {\n",
              "      display:flex;\n",
              "      gap: 12px;\n",
              "    }\n",
              "\n",
              "    .colab-df-convert {\n",
              "      background-color: #E8F0FE;\n",
              "      border: none;\n",
              "      border-radius: 50%;\n",
              "      cursor: pointer;\n",
              "      display: none;\n",
              "      fill: #1967D2;\n",
              "      height: 32px;\n",
              "      padding: 0 0 0 0;\n",
              "      width: 32px;\n",
              "    }\n",
              "\n",
              "    .colab-df-convert:hover {\n",
              "      background-color: #E2EBFA;\n",
              "      box-shadow: 0px 1px 2px rgba(60, 64, 67, 0.3), 0px 1px 3px 1px rgba(60, 64, 67, 0.15);\n",
              "      fill: #174EA6;\n",
              "    }\n",
              "\n",
              "    .colab-df-buttons div {\n",
              "      margin-bottom: 4px;\n",
              "    }\n",
              "\n",
              "    [theme=dark] .colab-df-convert {\n",
              "      background-color: #3B4455;\n",
              "      fill: #D2E3FC;\n",
              "    }\n",
              "\n",
              "    [theme=dark] .colab-df-convert:hover {\n",
              "      background-color: #434B5C;\n",
              "      box-shadow: 0px 1px 3px 1px rgba(0, 0, 0, 0.15);\n",
              "      filter: drop-shadow(0px 1px 2px rgba(0, 0, 0, 0.3));\n",
              "      fill: #FFFFFF;\n",
              "    }\n",
              "  </style>\n",
              "\n",
              "    <script>\n",
              "      const buttonEl =\n",
              "        document.querySelector('#df-3af217dc-d22c-4a8a-8c5f-6101a885994c button.colab-df-convert');\n",
              "      buttonEl.style.display =\n",
              "        google.colab.kernel.accessAllowed ? 'block' : 'none';\n",
              "\n",
              "      async function convertToInteractive(key) {\n",
              "        const element = document.querySelector('#df-3af217dc-d22c-4a8a-8c5f-6101a885994c');\n",
              "        const dataTable =\n",
              "          await google.colab.kernel.invokeFunction('convertToInteractive',\n",
              "                                                    [key], {});\n",
              "        if (!dataTable) return;\n",
              "\n",
              "        const docLinkHtml = 'Like what you see? Visit the ' +\n",
              "          '<a target=\"_blank\" href=https://colab.research.google.com/notebooks/data_table.ipynb>data table notebook</a>'\n",
              "          + ' to learn more about interactive tables.';\n",
              "        element.innerHTML = '';\n",
              "        dataTable['output_type'] = 'display_data';\n",
              "        await google.colab.output.renderOutput(dataTable, element);\n",
              "        const docLink = document.createElement('div');\n",
              "        docLink.innerHTML = docLinkHtml;\n",
              "        element.appendChild(docLink);\n",
              "      }\n",
              "    </script>\n",
              "  </div>\n",
              "\n",
              "\n",
              "    <div id=\"df-545ab0fb-da45-4181-b895-6bddb5335be2\">\n",
              "      <button class=\"colab-df-quickchart\" onclick=\"quickchart('df-545ab0fb-da45-4181-b895-6bddb5335be2')\"\n",
              "                title=\"Suggest charts\"\n",
              "                style=\"display:none;\">\n",
              "\n",
              "<svg xmlns=\"http://www.w3.org/2000/svg\" height=\"24px\"viewBox=\"0 0 24 24\"\n",
              "     width=\"24px\">\n",
              "    <g>\n",
              "        <path d=\"M19 3H5c-1.1 0-2 .9-2 2v14c0 1.1.9 2 2 2h14c1.1 0 2-.9 2-2V5c0-1.1-.9-2-2-2zM9 17H7v-7h2v7zm4 0h-2V7h2v10zm4 0h-2v-4h2v4z\"/>\n",
              "    </g>\n",
              "</svg>\n",
              "      </button>\n",
              "\n",
              "<style>\n",
              "  .colab-df-quickchart {\n",
              "      --bg-color: #E8F0FE;\n",
              "      --fill-color: #1967D2;\n",
              "      --hover-bg-color: #E2EBFA;\n",
              "      --hover-fill-color: #174EA6;\n",
              "      --disabled-fill-color: #AAA;\n",
              "      --disabled-bg-color: #DDD;\n",
              "  }\n",
              "\n",
              "  [theme=dark] .colab-df-quickchart {\n",
              "      --bg-color: #3B4455;\n",
              "      --fill-color: #D2E3FC;\n",
              "      --hover-bg-color: #434B5C;\n",
              "      --hover-fill-color: #FFFFFF;\n",
              "      --disabled-bg-color: #3B4455;\n",
              "      --disabled-fill-color: #666;\n",
              "  }\n",
              "\n",
              "  .colab-df-quickchart {\n",
              "    background-color: var(--bg-color);\n",
              "    border: none;\n",
              "    border-radius: 50%;\n",
              "    cursor: pointer;\n",
              "    display: none;\n",
              "    fill: var(--fill-color);\n",
              "    height: 32px;\n",
              "    padding: 0;\n",
              "    width: 32px;\n",
              "  }\n",
              "\n",
              "  .colab-df-quickchart:hover {\n",
              "    background-color: var(--hover-bg-color);\n",
              "    box-shadow: 0 1px 2px rgba(60, 64, 67, 0.3), 0 1px 3px 1px rgba(60, 64, 67, 0.15);\n",
              "    fill: var(--button-hover-fill-color);\n",
              "  }\n",
              "\n",
              "  .colab-df-quickchart-complete:disabled,\n",
              "  .colab-df-quickchart-complete:disabled:hover {\n",
              "    background-color: var(--disabled-bg-color);\n",
              "    fill: var(--disabled-fill-color);\n",
              "    box-shadow: none;\n",
              "  }\n",
              "\n",
              "  .colab-df-spinner {\n",
              "    border: 2px solid var(--fill-color);\n",
              "    border-color: transparent;\n",
              "    border-bottom-color: var(--fill-color);\n",
              "    animation:\n",
              "      spin 1s steps(1) infinite;\n",
              "  }\n",
              "\n",
              "  @keyframes spin {\n",
              "    0% {\n",
              "      border-color: transparent;\n",
              "      border-bottom-color: var(--fill-color);\n",
              "      border-left-color: var(--fill-color);\n",
              "    }\n",
              "    20% {\n",
              "      border-color: transparent;\n",
              "      border-left-color: var(--fill-color);\n",
              "      border-top-color: var(--fill-color);\n",
              "    }\n",
              "    30% {\n",
              "      border-color: transparent;\n",
              "      border-left-color: var(--fill-color);\n",
              "      border-top-color: var(--fill-color);\n",
              "      border-right-color: var(--fill-color);\n",
              "    }\n",
              "    40% {\n",
              "      border-color: transparent;\n",
              "      border-right-color: var(--fill-color);\n",
              "      border-top-color: var(--fill-color);\n",
              "    }\n",
              "    60% {\n",
              "      border-color: transparent;\n",
              "      border-right-color: var(--fill-color);\n",
              "    }\n",
              "    80% {\n",
              "      border-color: transparent;\n",
              "      border-right-color: var(--fill-color);\n",
              "      border-bottom-color: var(--fill-color);\n",
              "    }\n",
              "    90% {\n",
              "      border-color: transparent;\n",
              "      border-bottom-color: var(--fill-color);\n",
              "    }\n",
              "  }\n",
              "</style>\n",
              "\n",
              "      <script>\n",
              "        async function quickchart(key) {\n",
              "          const quickchartButtonEl =\n",
              "            document.querySelector('#' + key + ' button');\n",
              "          quickchartButtonEl.disabled = true;  // To prevent multiple clicks.\n",
              "          quickchartButtonEl.classList.add('colab-df-spinner');\n",
              "          try {\n",
              "            const charts = await google.colab.kernel.invokeFunction(\n",
              "                'suggestCharts', [key], {});\n",
              "          } catch (error) {\n",
              "            console.error('Error during call to suggestCharts:', error);\n",
              "          }\n",
              "          quickchartButtonEl.classList.remove('colab-df-spinner');\n",
              "          quickchartButtonEl.classList.add('colab-df-quickchart-complete');\n",
              "        }\n",
              "        (() => {\n",
              "          let quickchartButtonEl =\n",
              "            document.querySelector('#df-545ab0fb-da45-4181-b895-6bddb5335be2 button');\n",
              "          quickchartButtonEl.style.display =\n",
              "            google.colab.kernel.accessAllowed ? 'block' : 'none';\n",
              "        })();\n",
              "      </script>\n",
              "    </div>\n",
              "    </div>\n",
              "  </div>\n"
            ],
            "application/vnd.google.colaboratory.intrinsic+json": {
              "type": "dataframe",
              "variable_name": "train_df",
              "summary": "{\n  \"name\": \"train_df\",\n  \"rows\": 12120,\n  \"fields\": [\n    {\n      \"column\": \"id\",\n      \"properties\": {\n        \"dtype\": \"string\",\n        \"num_unique_values\": 12120,\n        \"samples\": [\n          \"f4891fa23f\",\n          \"e8b38c6175\",\n          \"e0a29d673a\"\n        ],\n        \"semantic_type\": \"\",\n        \"description\": \"\"\n      }\n    },\n    {\n      \"column\": \"premise\",\n      \"properties\": {\n        \"dtype\": \"string\",\n        \"num_unique_values\": 8209,\n        \"samples\": [\n          \"As a result, an estimated four out of five low-income people requiring legal help in our community do not receive it.\",\n          \"but uh TV is something that we try to not um deliberately try not to get hung up on it like you say\",\n          \"Several of the organizations had professional and administrative staffs that provided analytical capabilities and facilitated their members' participation in the organization's activities.\"\n        ],\n        \"semantic_type\": \"\",\n        \"description\": \"\"\n      }\n    },\n    {\n      \"column\": \"hypothesis\",\n      \"properties\": {\n        \"dtype\": \"string\",\n        \"num_unique_values\": 12119,\n        \"samples\": [\n          \"Increased federal enforcement is essential to curbing organized crime.\",\n          \"Unable to be reached on Friday.\",\n          \"There was no cost in keeping the grass alive in the summer time.\"\n        ],\n        \"semantic_type\": \"\",\n        \"description\": \"\"\n      }\n    },\n    {\n      \"column\": \"lang_abv\",\n      \"properties\": {\n        \"dtype\": \"category\",\n        \"num_unique_values\": 15,\n        \"samples\": [\n          \"zh\",\n          \"sw\",\n          \"en\"\n        ],\n        \"semantic_type\": \"\",\n        \"description\": \"\"\n      }\n    },\n    {\n      \"column\": \"language\",\n      \"properties\": {\n        \"dtype\": \"category\",\n        \"num_unique_values\": 15,\n        \"samples\": [\n          \"Chinese\",\n          \"Swahili\",\n          \"English\"\n        ],\n        \"semantic_type\": \"\",\n        \"description\": \"\"\n      }\n    },\n    {\n      \"column\": \"label\",\n      \"properties\": {\n        \"dtype\": \"number\",\n        \"std\": 0,\n        \"min\": 0,\n        \"max\": 2,\n        \"num_unique_values\": 3,\n        \"samples\": [\n          0,\n          2,\n          1\n        ],\n        \"semantic_type\": \"\",\n        \"description\": \"\"\n      }\n    }\n  ]\n}"
            }
          },
          "metadata": {},
          "execution_count": 17
        }
      ],
      "execution_count": 17
    },
    {
      "cell_type": "code",
      "source": [
        "test_df = pd.read_csv(DATA_DIR + \"/test.csv\")\n",
        "test_df.head()"
      ],
      "metadata": {
        "trusted": true,
        "execution": {
          "iopub.status.busy": "2025-05-12T06:29:01.312271Z",
          "iopub.execute_input": "2025-05-12T06:29:01.312920Z",
          "iopub.status.idle": "2025-05-12T06:29:01.362683Z",
          "shell.execute_reply.started": "2025-05-12T06:29:01.312892Z",
          "shell.execute_reply": "2025-05-12T06:29:01.361841Z"
        },
        "id": "0Ef3LafAOT1g",
        "outputId": "c96b8f95-ea6e-4871-a002-f1c049e51e6f",
        "colab": {
          "base_uri": "https://localhost:8080/",
          "height": 327
        }
      },
      "outputs": [
        {
          "output_type": "execute_result",
          "data": {
            "text/plain": [
              "           id                                            premise  \\\n",
              "0  c6d58c3f69  بکس، کیسی، راہیل، یسعیاہ، کیلی، کیلی، اور کولم...   \n",
              "1  cefcc82292                             هذا هو ما تم نصحنا به.   \n",
              "2  e98005252c  et cela est en grande partie dû au fait que le...   \n",
              "3  58518c10ba                   与城市及其他公民及社区组织代表就IMA的艺术发展进行对话&amp   \n",
              "4  c32b0d16df                              Она все еще была там.   \n",
              "\n",
              "                                          hypothesis lang_abv language  \n",
              "0  کیسی کے لئے کوئی یادگار نہیں ہوگا, کولمین ہائی...       ur     Urdu  \n",
              "1  عندما يتم إخبارهم بما يجب عليهم فعله ، فشلت ال...       ar   Arabic  \n",
              "2                             Les mères se droguent.       fr   French  \n",
              "3                            IMA与其他组织合作，因为它们都依靠共享资金。       zh  Chinese  \n",
              "4     Мы думали, что она ушла, однако, она осталась.       ru  Russian  "
            ],
            "text/html": [
              "\n",
              "  <div id=\"df-39617353-9c4d-415b-8dad-f44276a97c0b\" class=\"colab-df-container\">\n",
              "    <div>\n",
              "<style scoped>\n",
              "    .dataframe tbody tr th:only-of-type {\n",
              "        vertical-align: middle;\n",
              "    }\n",
              "\n",
              "    .dataframe tbody tr th {\n",
              "        vertical-align: top;\n",
              "    }\n",
              "\n",
              "    .dataframe thead th {\n",
              "        text-align: right;\n",
              "    }\n",
              "</style>\n",
              "<table border=\"1\" class=\"dataframe\">\n",
              "  <thead>\n",
              "    <tr style=\"text-align: right;\">\n",
              "      <th></th>\n",
              "      <th>id</th>\n",
              "      <th>premise</th>\n",
              "      <th>hypothesis</th>\n",
              "      <th>lang_abv</th>\n",
              "      <th>language</th>\n",
              "    </tr>\n",
              "  </thead>\n",
              "  <tbody>\n",
              "    <tr>\n",
              "      <th>0</th>\n",
              "      <td>c6d58c3f69</td>\n",
              "      <td>بکس، کیسی، راہیل، یسعیاہ، کیلی، کیلی، اور کولم...</td>\n",
              "      <td>کیسی کے لئے کوئی یادگار نہیں ہوگا, کولمین ہائی...</td>\n",
              "      <td>ur</td>\n",
              "      <td>Urdu</td>\n",
              "    </tr>\n",
              "    <tr>\n",
              "      <th>1</th>\n",
              "      <td>cefcc82292</td>\n",
              "      <td>هذا هو ما تم نصحنا به.</td>\n",
              "      <td>عندما يتم إخبارهم بما يجب عليهم فعله ، فشلت ال...</td>\n",
              "      <td>ar</td>\n",
              "      <td>Arabic</td>\n",
              "    </tr>\n",
              "    <tr>\n",
              "      <th>2</th>\n",
              "      <td>e98005252c</td>\n",
              "      <td>et cela est en grande partie dû au fait que le...</td>\n",
              "      <td>Les mères se droguent.</td>\n",
              "      <td>fr</td>\n",
              "      <td>French</td>\n",
              "    </tr>\n",
              "    <tr>\n",
              "      <th>3</th>\n",
              "      <td>58518c10ba</td>\n",
              "      <td>与城市及其他公民及社区组织代表就IMA的艺术发展进行对话&amp;amp</td>\n",
              "      <td>IMA与其他组织合作，因为它们都依靠共享资金。</td>\n",
              "      <td>zh</td>\n",
              "      <td>Chinese</td>\n",
              "    </tr>\n",
              "    <tr>\n",
              "      <th>4</th>\n",
              "      <td>c32b0d16df</td>\n",
              "      <td>Она все еще была там.</td>\n",
              "      <td>Мы думали, что она ушла, однако, она осталась.</td>\n",
              "      <td>ru</td>\n",
              "      <td>Russian</td>\n",
              "    </tr>\n",
              "  </tbody>\n",
              "</table>\n",
              "</div>\n",
              "    <div class=\"colab-df-buttons\">\n",
              "\n",
              "  <div class=\"colab-df-container\">\n",
              "    <button class=\"colab-df-convert\" onclick=\"convertToInteractive('df-39617353-9c4d-415b-8dad-f44276a97c0b')\"\n",
              "            title=\"Convert this dataframe to an interactive table.\"\n",
              "            style=\"display:none;\">\n",
              "\n",
              "  <svg xmlns=\"http://www.w3.org/2000/svg\" height=\"24px\" viewBox=\"0 -960 960 960\">\n",
              "    <path d=\"M120-120v-720h720v720H120Zm60-500h600v-160H180v160Zm220 220h160v-160H400v160Zm0 220h160v-160H400v160ZM180-400h160v-160H180v160Zm440 0h160v-160H620v160ZM180-180h160v-160H180v160Zm440 0h160v-160H620v160Z\"/>\n",
              "  </svg>\n",
              "    </button>\n",
              "\n",
              "  <style>\n",
              "    .colab-df-container {\n",
              "      display:flex;\n",
              "      gap: 12px;\n",
              "    }\n",
              "\n",
              "    .colab-df-convert {\n",
              "      background-color: #E8F0FE;\n",
              "      border: none;\n",
              "      border-radius: 50%;\n",
              "      cursor: pointer;\n",
              "      display: none;\n",
              "      fill: #1967D2;\n",
              "      height: 32px;\n",
              "      padding: 0 0 0 0;\n",
              "      width: 32px;\n",
              "    }\n",
              "\n",
              "    .colab-df-convert:hover {\n",
              "      background-color: #E2EBFA;\n",
              "      box-shadow: 0px 1px 2px rgba(60, 64, 67, 0.3), 0px 1px 3px 1px rgba(60, 64, 67, 0.15);\n",
              "      fill: #174EA6;\n",
              "    }\n",
              "\n",
              "    .colab-df-buttons div {\n",
              "      margin-bottom: 4px;\n",
              "    }\n",
              "\n",
              "    [theme=dark] .colab-df-convert {\n",
              "      background-color: #3B4455;\n",
              "      fill: #D2E3FC;\n",
              "    }\n",
              "\n",
              "    [theme=dark] .colab-df-convert:hover {\n",
              "      background-color: #434B5C;\n",
              "      box-shadow: 0px 1px 3px 1px rgba(0, 0, 0, 0.15);\n",
              "      filter: drop-shadow(0px 1px 2px rgba(0, 0, 0, 0.3));\n",
              "      fill: #FFFFFF;\n",
              "    }\n",
              "  </style>\n",
              "\n",
              "    <script>\n",
              "      const buttonEl =\n",
              "        document.querySelector('#df-39617353-9c4d-415b-8dad-f44276a97c0b button.colab-df-convert');\n",
              "      buttonEl.style.display =\n",
              "        google.colab.kernel.accessAllowed ? 'block' : 'none';\n",
              "\n",
              "      async function convertToInteractive(key) {\n",
              "        const element = document.querySelector('#df-39617353-9c4d-415b-8dad-f44276a97c0b');\n",
              "        const dataTable =\n",
              "          await google.colab.kernel.invokeFunction('convertToInteractive',\n",
              "                                                    [key], {});\n",
              "        if (!dataTable) return;\n",
              "\n",
              "        const docLinkHtml = 'Like what you see? Visit the ' +\n",
              "          '<a target=\"_blank\" href=https://colab.research.google.com/notebooks/data_table.ipynb>data table notebook</a>'\n",
              "          + ' to learn more about interactive tables.';\n",
              "        element.innerHTML = '';\n",
              "        dataTable['output_type'] = 'display_data';\n",
              "        await google.colab.output.renderOutput(dataTable, element);\n",
              "        const docLink = document.createElement('div');\n",
              "        docLink.innerHTML = docLinkHtml;\n",
              "        element.appendChild(docLink);\n",
              "      }\n",
              "    </script>\n",
              "  </div>\n",
              "\n",
              "\n",
              "    <div id=\"df-0552f9c6-9720-4df6-a83f-91d8ff1213ff\">\n",
              "      <button class=\"colab-df-quickchart\" onclick=\"quickchart('df-0552f9c6-9720-4df6-a83f-91d8ff1213ff')\"\n",
              "                title=\"Suggest charts\"\n",
              "                style=\"display:none;\">\n",
              "\n",
              "<svg xmlns=\"http://www.w3.org/2000/svg\" height=\"24px\"viewBox=\"0 0 24 24\"\n",
              "     width=\"24px\">\n",
              "    <g>\n",
              "        <path d=\"M19 3H5c-1.1 0-2 .9-2 2v14c0 1.1.9 2 2 2h14c1.1 0 2-.9 2-2V5c0-1.1-.9-2-2-2zM9 17H7v-7h2v7zm4 0h-2V7h2v10zm4 0h-2v-4h2v4z\"/>\n",
              "    </g>\n",
              "</svg>\n",
              "      </button>\n",
              "\n",
              "<style>\n",
              "  .colab-df-quickchart {\n",
              "      --bg-color: #E8F0FE;\n",
              "      --fill-color: #1967D2;\n",
              "      --hover-bg-color: #E2EBFA;\n",
              "      --hover-fill-color: #174EA6;\n",
              "      --disabled-fill-color: #AAA;\n",
              "      --disabled-bg-color: #DDD;\n",
              "  }\n",
              "\n",
              "  [theme=dark] .colab-df-quickchart {\n",
              "      --bg-color: #3B4455;\n",
              "      --fill-color: #D2E3FC;\n",
              "      --hover-bg-color: #434B5C;\n",
              "      --hover-fill-color: #FFFFFF;\n",
              "      --disabled-bg-color: #3B4455;\n",
              "      --disabled-fill-color: #666;\n",
              "  }\n",
              "\n",
              "  .colab-df-quickchart {\n",
              "    background-color: var(--bg-color);\n",
              "    border: none;\n",
              "    border-radius: 50%;\n",
              "    cursor: pointer;\n",
              "    display: none;\n",
              "    fill: var(--fill-color);\n",
              "    height: 32px;\n",
              "    padding: 0;\n",
              "    width: 32px;\n",
              "  }\n",
              "\n",
              "  .colab-df-quickchart:hover {\n",
              "    background-color: var(--hover-bg-color);\n",
              "    box-shadow: 0 1px 2px rgba(60, 64, 67, 0.3), 0 1px 3px 1px rgba(60, 64, 67, 0.15);\n",
              "    fill: var(--button-hover-fill-color);\n",
              "  }\n",
              "\n",
              "  .colab-df-quickchart-complete:disabled,\n",
              "  .colab-df-quickchart-complete:disabled:hover {\n",
              "    background-color: var(--disabled-bg-color);\n",
              "    fill: var(--disabled-fill-color);\n",
              "    box-shadow: none;\n",
              "  }\n",
              "\n",
              "  .colab-df-spinner {\n",
              "    border: 2px solid var(--fill-color);\n",
              "    border-color: transparent;\n",
              "    border-bottom-color: var(--fill-color);\n",
              "    animation:\n",
              "      spin 1s steps(1) infinite;\n",
              "  }\n",
              "\n",
              "  @keyframes spin {\n",
              "    0% {\n",
              "      border-color: transparent;\n",
              "      border-bottom-color: var(--fill-color);\n",
              "      border-left-color: var(--fill-color);\n",
              "    }\n",
              "    20% {\n",
              "      border-color: transparent;\n",
              "      border-left-color: var(--fill-color);\n",
              "      border-top-color: var(--fill-color);\n",
              "    }\n",
              "    30% {\n",
              "      border-color: transparent;\n",
              "      border-left-color: var(--fill-color);\n",
              "      border-top-color: var(--fill-color);\n",
              "      border-right-color: var(--fill-color);\n",
              "    }\n",
              "    40% {\n",
              "      border-color: transparent;\n",
              "      border-right-color: var(--fill-color);\n",
              "      border-top-color: var(--fill-color);\n",
              "    }\n",
              "    60% {\n",
              "      border-color: transparent;\n",
              "      border-right-color: var(--fill-color);\n",
              "    }\n",
              "    80% {\n",
              "      border-color: transparent;\n",
              "      border-right-color: var(--fill-color);\n",
              "      border-bottom-color: var(--fill-color);\n",
              "    }\n",
              "    90% {\n",
              "      border-color: transparent;\n",
              "      border-bottom-color: var(--fill-color);\n",
              "    }\n",
              "  }\n",
              "</style>\n",
              "\n",
              "      <script>\n",
              "        async function quickchart(key) {\n",
              "          const quickchartButtonEl =\n",
              "            document.querySelector('#' + key + ' button');\n",
              "          quickchartButtonEl.disabled = true;  // To prevent multiple clicks.\n",
              "          quickchartButtonEl.classList.add('colab-df-spinner');\n",
              "          try {\n",
              "            const charts = await google.colab.kernel.invokeFunction(\n",
              "                'suggestCharts', [key], {});\n",
              "          } catch (error) {\n",
              "            console.error('Error during call to suggestCharts:', error);\n",
              "          }\n",
              "          quickchartButtonEl.classList.remove('colab-df-spinner');\n",
              "          quickchartButtonEl.classList.add('colab-df-quickchart-complete');\n",
              "        }\n",
              "        (() => {\n",
              "          let quickchartButtonEl =\n",
              "            document.querySelector('#df-0552f9c6-9720-4df6-a83f-91d8ff1213ff button');\n",
              "          quickchartButtonEl.style.display =\n",
              "            google.colab.kernel.accessAllowed ? 'block' : 'none';\n",
              "        })();\n",
              "      </script>\n",
              "    </div>\n",
              "    </div>\n",
              "  </div>\n"
            ],
            "application/vnd.google.colaboratory.intrinsic+json": {
              "type": "dataframe",
              "variable_name": "test_df",
              "summary": "{\n  \"name\": \"test_df\",\n  \"rows\": 5195,\n  \"fields\": [\n    {\n      \"column\": \"id\",\n      \"properties\": {\n        \"dtype\": \"string\",\n        \"num_unique_values\": 5195,\n        \"samples\": [\n          \"466ab2432d\",\n          \"e7ca02b50f\",\n          \"a19fa9b83e\"\n        ],\n        \"semantic_type\": \"\",\n        \"description\": \"\"\n      }\n    },\n    {\n      \"column\": \"premise\",\n      \"properties\": {\n        \"dtype\": \"string\",\n        \"num_unique_values\": 4336,\n        \"samples\": [\n          \"L\\u00e0 m\\u1ed9t t\\u1ed5 ch\\u1ee9c th\\u00fac \\u0111\\u1ea9y gi\\u00e1o d\\u1ee5c v\\u00e0 h\\u1ecdc t\\u1eadp th\\u00f4ng qua s\\u1ef1 k\\u1ebft n\\u1ed1i c\\u1ee7a con ng\\u01b0\\u1eddi v\\u1edbi th\\u1ebf gi\\u1edbi t\\u1ef1 nhi\\u00ean xung quanh h\\u1ecd, H\\u1ed9i \\u0111ang t\\u00edch c\\u1ef1c chu\\u1ea9n b\\u1ecb cho s\\u1ef1 th\\u00e0nh c\\u00f4ng li\\u00ean t\\u1ee5c trong t\\u01b0\\u01a1ng lai.\",\n          \"A su vez, el objeto debe estar en la m\\u00e1quina unos minutos, y luego la m\\u00e1quina durante minutos, y as\\u00ed.\",\n          \"Some bugs are hell to track down.\"\n        ],\n        \"semantic_type\": \"\",\n        \"description\": \"\"\n      }\n    },\n    {\n      \"column\": \"hypothesis\",\n      \"properties\": {\n        \"dtype\": \"string\",\n        \"num_unique_values\": 5195,\n        \"samples\": [\n          \"LSC has a deadline of October 1,1998 to submit state planning reports.\",\n          \"Turizmciler eskisi kula\\u011fa \\u00e7irkin geldi\\u011finden, b\\u00f6lgenin daha iyi bir isme ihtiyac\\u0131 oldu\\u011funu d\\u00fc\\u015f\\u00fcn\\u00fcyor.\",\n          \"Kodak was naive and is still just a baby of a company.\"\n        ],\n        \"semantic_type\": \"\",\n        \"description\": \"\"\n      }\n    },\n    {\n      \"column\": \"lang_abv\",\n      \"properties\": {\n        \"dtype\": \"category\",\n        \"num_unique_values\": 15,\n        \"samples\": [\n          \"tr\",\n          \"vi\",\n          \"ur\"\n        ],\n        \"semantic_type\": \"\",\n        \"description\": \"\"\n      }\n    },\n    {\n      \"column\": \"language\",\n      \"properties\": {\n        \"dtype\": \"category\",\n        \"num_unique_values\": 15,\n        \"samples\": [\n          \"Turkish\",\n          \"Vietnamese\",\n          \"Urdu\"\n        ],\n        \"semantic_type\": \"\",\n        \"description\": \"\"\n      }\n    }\n  ]\n}"
            }
          },
          "metadata": {},
          "execution_count": 20
        }
      ],
      "execution_count": 20
    },
    {
      "cell_type": "code",
      "source": [
        "def display_pair_of_sentence(x):\n",
        "    print( \"Premise : \" + x['premise'])\n",
        "    print( \"Hypothesis: \" + x['hypothesis'])\n",
        "    print( \"Language: \" + x['language'])\n",
        "    print( \"Label: \" + str(x['label']))\n",
        "    print()\n",
        "\n",
        "train_df.head(10).apply(lambda x : display_pair_of_sentence(x), axis=1)"
      ],
      "metadata": {
        "trusted": true,
        "execution": {
          "iopub.status.busy": "2025-05-12T06:29:35.642716Z",
          "iopub.execute_input": "2025-05-12T06:29:35.643355Z",
          "iopub.status.idle": "2025-05-12T06:29:35.652338Z",
          "shell.execute_reply.started": "2025-05-12T06:29:35.643331Z",
          "shell.execute_reply": "2025-05-12T06:29:35.651336Z"
        },
        "id": "Lw9v_PFzOT1g",
        "outputId": "e745863a-61bd-4f7e-a5ab-dd811f4130d8",
        "colab": {
          "base_uri": "https://localhost:8080/",
          "height": 1000
        }
      },
      "outputs": [
        {
          "output_type": "stream",
          "name": "stdout",
          "text": [
            "Premise : and these comments were considered in formulating the interim rules.\n",
            "Hypothesis: The rules developed in the interim were put together with these comments in mind.\n",
            "Language: English\n",
            "Label: 0\n",
            "\n",
            "Premise : These are issues that we wrestle with in practice groups of law firms, she said. \n",
            "Hypothesis: Practice groups are not permitted to work on these issues.\n",
            "Language: English\n",
            "Label: 2\n",
            "\n",
            "Premise : Des petites choses comme celles-là font une différence énorme dans ce que j'essaye de faire.\n",
            "Hypothesis: J'essayais d'accomplir quelque chose.\n",
            "Language: French\n",
            "Label: 0\n",
            "\n",
            "Premise : you know they can't really defend themselves like somebody grown uh say my age you know yeah\n",
            "Hypothesis: They can't defend themselves because of their age.\n",
            "Language: English\n",
            "Label: 0\n",
            "\n",
            "Premise : ในการเล่นบทบาทสมมุติก็เช่นกัน โอกาสที่จะได้แสดงออกและได้เล่นหลายบทบาทไปพร้อมกัน ๆ อาจช่วยให้เด็กจับความคล้ายคลึงและความแตกต่างระหว่างผู้คนในด้านความปรารถนา ความเชื่อ และความรู้สึกได้\n",
            "Hypothesis: เด็กสามารถเห็นได้ว่าชาติพันธุ์แตกต่างกันอย่างไร\n",
            "Language: Thai\n",
            "Label: 1\n",
            "\n",
            "Premise : Bir çiftlikte birisinin, ağıla kapatılmış bu öküzleri kesmeliyiz dediğini duyabilirsiniz bu muhtemelen şu anlama gelir, yüklenecek olanları ayırın.\n",
            "Hypothesis: Çiftlikte insanlar farklı terimler kullanırlar.\n",
            "Language: Turkish\n",
            "Label: 0\n",
            "\n",
            "Premise : ریاست ہائے متحدہ امریکہ واپس آنے پر، ہج ایف بی آئی کے ایجنٹوں کے ذریعے ہوائی اڈے پر ملاقات کی، تحقیقات کی، اور اگلے دن وفاقی گرین جوری سے پہلے اسامہ بن لادن کی تحقیقات سے ملاقات کی.\n",
            "Hypothesis: ہیگ کی تفتیش ایف بی آئی اہلکاروں  کی طرف سے کی گئی\n",
            "Language: Urdu\n",
            "Label: 0\n",
            "\n",
            "Premise : From Cockpit Country to St. Ann's Bay\n",
            "Hypothesis: From St. Ann's Bay to Cockpit Country.\n",
            "Language: English\n",
            "Label: 2\n",
            "\n",
            "Premise : Look, it's your skin, but you're going to be in trouble if you don't get busy.\n",
            "Hypothesis: The boss will fire you if he sees you slacking off.\n",
            "Language: English\n",
            "Label: 1\n",
            "\n",
            "Premise : Через каждые сто градусов пятна краски меняют свой цвет, она может быть красной и изменить цвет на синий.\n",
            "Hypothesis: Краска изменяется в соответствии с цветом.\n",
            "Language: Russian\n",
            "Label: 0\n",
            "\n"
          ]
        },
        {
          "output_type": "execute_result",
          "data": {
            "text/plain": [
              "0    None\n",
              "1    None\n",
              "2    None\n",
              "3    None\n",
              "4    None\n",
              "5    None\n",
              "6    None\n",
              "7    None\n",
              "8    None\n",
              "9    None\n",
              "dtype: object"
            ],
            "text/html": [
              "<div>\n",
              "<style scoped>\n",
              "    .dataframe tbody tr th:only-of-type {\n",
              "        vertical-align: middle;\n",
              "    }\n",
              "\n",
              "    .dataframe tbody tr th {\n",
              "        vertical-align: top;\n",
              "    }\n",
              "\n",
              "    .dataframe thead th {\n",
              "        text-align: right;\n",
              "    }\n",
              "</style>\n",
              "<table border=\"1\" class=\"dataframe\">\n",
              "  <thead>\n",
              "    <tr style=\"text-align: right;\">\n",
              "      <th></th>\n",
              "      <th>0</th>\n",
              "    </tr>\n",
              "  </thead>\n",
              "  <tbody>\n",
              "    <tr>\n",
              "      <th>0</th>\n",
              "      <td>None</td>\n",
              "    </tr>\n",
              "    <tr>\n",
              "      <th>1</th>\n",
              "      <td>None</td>\n",
              "    </tr>\n",
              "    <tr>\n",
              "      <th>2</th>\n",
              "      <td>None</td>\n",
              "    </tr>\n",
              "    <tr>\n",
              "      <th>3</th>\n",
              "      <td>None</td>\n",
              "    </tr>\n",
              "    <tr>\n",
              "      <th>4</th>\n",
              "      <td>None</td>\n",
              "    </tr>\n",
              "    <tr>\n",
              "      <th>5</th>\n",
              "      <td>None</td>\n",
              "    </tr>\n",
              "    <tr>\n",
              "      <th>6</th>\n",
              "      <td>None</td>\n",
              "    </tr>\n",
              "    <tr>\n",
              "      <th>7</th>\n",
              "      <td>None</td>\n",
              "    </tr>\n",
              "    <tr>\n",
              "      <th>8</th>\n",
              "      <td>None</td>\n",
              "    </tr>\n",
              "    <tr>\n",
              "      <th>9</th>\n",
              "      <td>None</td>\n",
              "    </tr>\n",
              "  </tbody>\n",
              "</table>\n",
              "</div><br><label><b>dtype:</b> object</label>"
            ]
          },
          "metadata": {},
          "execution_count": 21
        }
      ],
      "execution_count": 21
    },
    {
      "cell_type": "code",
      "source": [
        "# Initialize the matplotlib figure\n",
        "f, ax = plt.subplots(figsize=(12, 4))\n",
        "\n",
        "# Plot the total crashes\n",
        "sns.set_color_codes(\"pastel\")\n",
        "sns.despine()\n",
        "ax = sns.countplot(data=train_df,\n",
        "                   y=\"label\",\n",
        "                   order = train_df['label'].value_counts().index)\n",
        "\n",
        "abs_values = train_df['label'].value_counts(ascending=False)\n",
        "rel_values = train_df['label'].value_counts(ascending=False, normalize=True).values * 100\n",
        "lbls = [f'{p[0]} ({p[1]:.0f}%)' for p in zip(abs_values, rel_values)]\n",
        "\n",
        "ax.bar_label(container=ax.containers[0], labels=lbls)\n",
        "\n",
        "ax.set_yticklabels([RESULT_DICT[index] for index in abs_values.index])\n",
        "\n",
        "ax.set_title(\"Distribution of labels in the training set\")"
      ],
      "metadata": {
        "trusted": true,
        "execution": {
          "iopub.status.busy": "2025-05-12T06:28:26.928047Z",
          "iopub.execute_input": "2025-05-12T06:28:26.928374Z",
          "iopub.status.idle": "2025-05-12T06:28:27.252754Z",
          "shell.execute_reply.started": "2025-05-12T06:28:26.928343Z",
          "shell.execute_reply": "2025-05-12T06:28:27.251907Z"
        },
        "id": "7FTL9zeXOT1g",
        "outputId": "b00750ca-2b47-492b-d8d2-70bbe856fff0",
        "colab": {
          "base_uri": "https://localhost:8080/",
          "height": 329
        }
      },
      "outputs": [
        {
          "output_type": "stream",
          "name": "stderr",
          "text": [
            "<ipython-input-25-451bdc6f3387>:17: UserWarning: set_ticklabels() should only be used with a fixed number of ticks, i.e. after set_ticks() or using a FixedLocator.\n",
            "  ax.set_yticklabels([RESULT_DICT[index] for index in abs_values.index])\n"
          ]
        },
        {
          "output_type": "execute_result",
          "data": {
            "text/plain": [
              "Text(0.5, 1.0, 'Distribution of labels in the training set')"
            ]
          },
          "metadata": {},
          "execution_count": 25
        },
        {
          "output_type": "display_data",
          "data": {
            "text/plain": [
              "<Figure size 1200x400 with 1 Axes>"
            ],
            "image/png": "[encoded data removed]"
          },
          "metadata": {}
        }
      ],
      "execution_count": 25
    },
    {
      "cell_type": "code",
      "source": [
        "# set number of classes of the label.\n",
        "NUM_CLASSES = 3"
      ],
      "metadata": {
        "trusted": true,
        "execution": {
          "iopub.status.busy": "2025-05-12T06:28:27.253618Z",
          "iopub.execute_input": "2025-05-12T06:28:27.253920Z",
          "iopub.status.idle": "2025-05-12T06:28:27.258298Z",
          "shell.execute_reply.started": "2025-05-12T06:28:27.253901Z",
          "shell.execute_reply": "2025-05-12T06:28:27.257244Z"
        },
        "id": "-FIkda1tOT1h"
      },
      "outputs": [],
      "execution_count": 26
    },
    {
      "cell_type": "code",
      "source": [
        "# Initialize the matplotlib figure\n",
        "f, ax = plt.subplots(figsize=(10, 10))\n",
        "\n",
        "# Plot the total crashes\n",
        "sns.set_color_codes(\"pastel\")\n",
        "sns.despine()\n",
        "ax = sns.countplot(data=train_df,\n",
        "                   y=\"language\",\n",
        "                   order = train_df['language'].value_counts().index)\n",
        "\n",
        "abs_values = train_df['language'].value_counts(ascending=False)\n",
        "rel_values = train_df['language'].value_counts(ascending=False, normalize=True).values * 100\n",
        "lbls = [f'{p[0]} ({p[1]:.0f}%)' for p in zip(abs_values, rel_values)]\n",
        "\n",
        "ax.bar_label(container=ax.containers[0], labels=lbls)\n",
        "\n",
        "ax.set_title(\"Distribution of languages in the training set\")"
      ],
      "metadata": {
        "trusted": true,
        "execution": {
          "iopub.status.busy": "2025-05-12T06:28:27.262236Z",
          "iopub.execute_input": "2025-05-12T06:28:27.262494Z",
          "iopub.status.idle": "2025-05-12T06:28:27.673098Z",
          "shell.execute_reply.started": "2025-05-12T06:28:27.262474Z",
          "shell.execute_reply": "2025-05-12T06:28:27.672214Z"
        },
        "id": "z1_R7LjjOT1h",
        "outputId": "71c005a8-a28a-4633-ebce-7c352cfee46d",
        "colab": {
          "base_uri": "https://localhost:8080/",
          "height": 638
        }
      },
      "outputs": [
        {
          "output_type": "execute_result",
          "data": {
            "text/plain": [
              "Text(0.5, 1.0, 'Distribution of languages in the training set')"
            ]
          },
          "metadata": {},
          "execution_count": 27
        },
        {
          "output_type": "display_data",
          "data": {
            "text/plain": [
              "<Figure size 1000x1000 with 1 Axes>"
            ],
            "image/png": "[encoded data removed]"
          },
          "metadata": {}
        }
      ],
      "execution_count": 27
    },
    {
      "cell_type": "code",
      "source": [
        "# Distribution of languages in the dataset\n",
        "language_counts = train_df['language'].value_counts()\n",
        "print(\"Language distribution:\")\n",
        "print(language_counts)"
      ],
      "metadata": {
        "trusted": true,
        "execution": {
          "iopub.status.busy": "2025-05-12T06:28:28.078516Z",
          "iopub.execute_input": "2025-05-12T06:28:28.078852Z",
          "iopub.status.idle": "2025-05-12T06:28:28.086459Z",
          "shell.execute_reply.started": "2025-05-12T06:28:28.078825Z",
          "shell.execute_reply": "2025-05-12T06:28:28.085439Z"
        },
        "id": "shPwk311OT1h",
        "outputId": "ed808ebd-9083-4326-9257-e7ff8383051b",
        "colab": {
          "base_uri": "https://localhost:8080/"
        }
      },
      "outputs": [
        {
          "output_type": "stream",
          "name": "stdout",
          "text": [
            "Language distribution:\n",
            "language\n",
            "English       6870\n",
            "Chinese        411\n",
            "Arabic         401\n",
            "French         390\n",
            "Swahili        385\n",
            "Urdu           381\n",
            "Vietnamese     379\n",
            "Russian        376\n",
            "Hindi          374\n",
            "Greek          372\n",
            "Thai           371\n",
            "Spanish        366\n",
            "Turkish        351\n",
            "German         351\n",
            "Bulgarian      342\n",
            "Name: count, dtype: int64\n"
          ]
        }
      ],
      "execution_count": 28
    },
    {
      "cell_type": "code",
      "source": [
        "# Split the dataset into English and non-English subsets\n",
        "english_df = train_df[train_df['language'] == 'English']\n",
        "non_english_df = train_df[train_df['language'] != 'English']"
      ],
      "metadata": {
        "trusted": true,
        "execution": {
          "iopub.status.busy": "2025-05-12T06:30:44.458478Z",
          "iopub.execute_input": "2025-05-12T06:30:44.458838Z",
          "iopub.status.idle": "2025-05-12T06:30:44.470469Z",
          "shell.execute_reply.started": "2025-05-12T06:30:44.458814Z",
          "shell.execute_reply": "2025-05-12T06:30:44.469753Z"
        },
        "id": "-CY6ljqgOT1i"
      },
      "outputs": [],
      "execution_count": 29
    },
    {
      "cell_type": "code",
      "source": [
        "# Split the dataset into English and non-English subsets\n",
        "english_test_df = test_df[test_df['language'] == 'English']\n",
        "non_english_test_df = test_df[test_df['language'] != 'English']"
      ],
      "metadata": {
        "trusted": true,
        "execution": {
          "iopub.status.busy": "2025-05-12T06:30:49.921019Z",
          "iopub.execute_input": "2025-05-12T06:30:49.921694Z",
          "iopub.status.idle": "2025-05-12T06:30:49.929549Z",
          "shell.execute_reply.started": "2025-05-12T06:30:49.921654Z",
          "shell.execute_reply": "2025-05-12T06:30:49.928750Z"
        },
        "id": "vgBe9uCwOT1i"
      },
      "outputs": [],
      "execution_count": 30
    },
    {
      "cell_type": "code",
      "source": [
        "print(f\"\\nEnglish subset: {len(english_df)} samples\")\n",
        "print(f\"Non-English subset: {len(non_english_df)} samples\")"
      ],
      "metadata": {
        "trusted": true,
        "execution": {
          "iopub.status.busy": "2025-05-12T06:30:54.511374Z",
          "iopub.execute_input": "2025-05-12T06:30:54.512207Z",
          "iopub.status.idle": "2025-05-12T06:30:54.516899Z",
          "shell.execute_reply.started": "2025-05-12T06:30:54.512182Z",
          "shell.execute_reply": "2025-05-12T06:30:54.515981Z"
        },
        "id": "mj9i-MjpOT1i",
        "outputId": "354cf522-7b0e-4a83-935f-ee406ba669d3",
        "colab": {
          "base_uri": "https://localhost:8080/"
        }
      },
      "outputs": [
        {
          "output_type": "stream",
          "name": "stdout",
          "text": [
            "\n",
            "English subset: 6870 samples\n",
            "Non-English subset: 5250 samples\n"
          ]
        }
      ],
      "execution_count": 31
    },
    {
      "cell_type": "code",
      "source": [
        "# text samples\n",
        "train_df[['premise', 'hypothesis']].sample(5)\n",
        "\n",
        "# check missing values\n",
        "print(\"Missing values:\\n\", train_df[['premise', 'hypothesis']].isnull().sum())\n",
        "\n",
        "# check wird chars\n",
        "\n",
        "train_df['special_chars'] = train_df['premise'].apply(lambda x: re.findall(r'[^\\w\\s]', x))\n",
        "print(\"Samples of text with special chars:\\n\", train_df[['premise', 'special_chars']].head())"
      ],
      "metadata": {
        "trusted": true,
        "execution": {
          "iopub.status.busy": "2025-05-12T06:33:01.631180Z",
          "iopub.execute_input": "2025-05-12T06:33:01.631509Z",
          "iopub.status.idle": "2025-05-12T06:33:02.200299Z",
          "shell.execute_reply.started": "2025-05-12T06:33:01.631486Z",
          "shell.execute_reply": "2025-05-12T06:33:02.199575Z"
        },
        "id": "Rj1aiKIiOT1k",
        "outputId": "ee865ad7-17aa-4ade-c292-268665efe041",
        "colab": {
          "base_uri": "https://localhost:8080/"
        }
      },
      "outputs": [
        {
          "output_type": "stream",
          "name": "stdout",
          "text": [
            "Missing values:\n",
            " premise       0\n",
            "hypothesis    0\n",
            "dtype: int64\n",
            "Samples of text with special chars:\n",
            "                                              premise  \\\n",
            "0  and these comments were considered in formulat...   \n",
            "1  These are issues that we wrestle with in pract...   \n",
            "2  Des petites choses comme celles-là font une di...   \n",
            "3  you know they can't really defend themselves l...   \n",
            "4  ในการเล่นบทบาทสมมุติก็เช่นกัน โอกาสที่จะได้แสด...   \n",
            "\n",
            "                                       special_chars  \n",
            "0                                                [.]  \n",
            "1                                             [,, .]  \n",
            "2                                          [-, ', .]  \n",
            "3                                                [']  \n",
            "4  [่, ุ, ิ, ็, ่, ั, ี, ่, ้, ้, ่, ้, ั, ่, ้, ...  \n"
          ]
        }
      ],
      "execution_count": 32
    },
    {
      "cell_type": "code",
      "source": [
        "# Initialize the matplotlib figure\n",
        "f, ax = plt.subplots(figsize=(10, 2))\n",
        "\n",
        "# Plot the total crashes\n",
        "sns.set_color_codes(\"pastel\")\n",
        "sns.despine()\n",
        "ax = sns.countplot(data=english_df,\n",
        "                   y=\"label\",\n",
        "                   order = english_df['label'].value_counts().index)\n",
        "\n",
        "abs_values = english_df['label'].value_counts(ascending=False)\n",
        "rel_values = english_df['label'].value_counts(ascending=False, normalize=True).values * 100\n",
        "lbls = [f'{p[0]} ({p[1]:.0f}%)' for p in zip(abs_values, rel_values)]\n",
        "\n",
        "ax.bar_label(container=ax.containers[0], labels=lbls)\n",
        "\n",
        "ax.set_yticklabels([RESULT_DICT[index] for index in abs_values.index])\n",
        "\n",
        "ax.set_title(\"Distribution of labels in the training set\")"
      ],
      "metadata": {
        "trusted": true,
        "execution": {
          "iopub.status.busy": "2025-05-12T06:34:48.188175Z",
          "iopub.execute_input": "2025-05-12T06:34:48.188478Z",
          "iopub.status.idle": "2025-05-12T06:34:48.349113Z",
          "shell.execute_reply.started": "2025-05-12T06:34:48.188454Z",
          "shell.execute_reply": "2025-05-12T06:34:48.347916Z"
        },
        "id": "GsqRt4zsOT1k",
        "outputId": "447b43ef-591a-4ce9-a1ce-69a6c8b5150a",
        "colab": {
          "base_uri": "https://localhost:8080/",
          "height": 258
        }
      },
      "outputs": [
        {
          "output_type": "stream",
          "name": "stderr",
          "text": [
            "<ipython-input-36-a90d815d7d5c>:17: UserWarning: set_ticklabels() should only be used with a fixed number of ticks, i.e. after set_ticks() or using a FixedLocator.\n",
            "  ax.set_yticklabels([RESULT_DICT[index] for index in abs_values.index])\n"
          ]
        },
        {
          "output_type": "execute_result",
          "data": {
            "text/plain": [
              "Text(0.5, 1.0, 'Distribution of labels in the training set')"
            ]
          },
          "metadata": {},
          "execution_count": 36
        },
        {
          "output_type": "display_data",
          "data": {
            "text/plain": [
              "<Figure size 1000x200 with 1 Axes>"
            ],
            "image/png": "[encoded data removed]"
          },
          "metadata": {}
        }
      ],
      "execution_count": 36
    }
  ]
}